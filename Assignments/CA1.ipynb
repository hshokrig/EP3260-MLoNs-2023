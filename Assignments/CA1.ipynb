{
 "cells": [
  {
   "cell_type": "code",
   "execution_count": 1,
   "metadata": {},
   "outputs": [],
   "source": [
    "##imports from libraries\n",
    "import pandas as pd\n",
    "import numpy as np\n",
    "import time\n",
    "from sklearn import linear_model"
   ]
  },
  {
   "cell_type": "code",
   "execution_count": null,
   "metadata": {},
   "outputs": [],
   "source": [
    "## Load data and preprocessing\n",
    "\n",
    "## Example of reading dataset ''crimedata.csv'' : \n",
    "data = pd.read_csv(\"crimedata.csv\")\n",
    "X = data.iloc[:,5:127]\n",
    "Y = data.iloc[:,127]\n",
    "## You can observe the shape of data by \n",
    "print(X.shape)\n",
    "print(Y.shape)\n",
    "X_ = np.array(X.replace({'?':0})).T\n",
    "X_ = X_.astype(float)\n",
    "Y_ = np.array(Y).reshape(Y.shape[0],1)\n"
   ]
  },
  {
   "cell_type": "code",
   "execution_count": null,
   "metadata": {},
   "outputs": [],
   "source": [
    "## Closed form solution and optimal linear regressor\n",
    "\n",
    "# Define lambda here:\n",
    "lambda = 0 # change the value\n",
    "\n",
    "start = time.time()\n",
    "## Calculate the closed-form solution here:\n",
    "\n",
    "end = time.time()\n",
    "\n",
    "\n",
    "reg = linear_model.Ridge(alpha=0)\n",
    "start = time.time()\n",
    "## Find the optimal linear regressor here:\n",
    "\n",
    "end = time.time()"
   ]
  }
 ],
 "metadata": {
  "kernelspec": {
   "display_name": "Python 3",
   "language": "python",
   "name": "python3"
  },
  "language_info": {
   "codemirror_mode": {
    "name": "ipython",
    "version": 3
   },
   "file_extension": ".py",
   "mimetype": "text/x-python",
   "name": "python",
   "nbconvert_exporter": "python",
   "pygments_lexer": "ipython3",
   "version": "3.7.4"
  }
 },
 "nbformat": 4,
 "nbformat_minor": 2
}
