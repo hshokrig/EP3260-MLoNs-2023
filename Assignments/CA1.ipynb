{
 "cells": [
  {
   "cell_type": "markdown",
   "metadata": {},
   "source": [
    "# Close form solution vs iterative approaches\n",
    "\n",
    "In this assignment we have two different data sets and we are going to compare the results and time of training for these data sets with different approaches. The following is how we compute the close form solution.\n",
    "\n",
    "If we consider x and y like the following matrices:\n",
    "\n",
    "\\begin{equation*}\n",
    "x=[x_1|x_2|...|x_n]\n",
    "\\end{equation*}\n",
    "\\begin{equation*}\n",
    "y=\\begin{bmatrix}\n",
    "    y_{1}  \\\\\n",
    "    y_{2}  \\\\\n",
    "    \\vdots  \\\\\n",
    "    y_{n} \n",
    "\\end{bmatrix}\n",
    "\\end{equation*}\n",
    "\n",
    "Then we like to minimize \n",
    "\n",
    "\\begin{equation*}\n",
    "\\frac{1}{N} \\sum||w^Tx_i-y_i||^2 + \\lambda ||w||^2\n",
    "\\end{equation*}\n",
    "\n",
    "\\begin{equation*}\n",
    "f(w)=\\frac{1}{N}||X^Tw-y||^2+\\lambda||w||^2\n",
    "\\end{equation*}\n",
    "\n",
    "and then we compute the gradian of the function with respect to w. Then compute w when the gradian is zero. The following is the close form solution for w\n",
    "\n",
    "\\begin{equation*}\n",
    "w=(XX^T+\\lambda I)^{-1}Xy\n",
    "\\end{equation*}\n",
    "\n",
    "Using this equation we can compute the close form solution and compare it with iterative approaches."
   ]
  },
  {
   "cell_type": "code",
   "execution_count": 2,
   "metadata": {},
   "outputs": [
    {
     "name": "stdout",
     "output_type": "stream",
     "text": [
      "(2075259, 9)\n",
      "(2075259, 4)\n",
      "(2075259,)\n"
     ]
    }
   ],
   "source": [
    "import pandas as pd\n",
    "import numpy as np\n",
    "import time\n",
    "\n",
    "np.random.seed(0)\n",
    "\n",
    "data = pd.read_csv(\"data/household_power_consumption.txt\",\";\")\n",
    "\n",
    "print(data.shape)\n",
    "#print(data.head(3))\n",
    "#print(data.tail(3))\n",
    "\n",
    "X = data.iloc[:,2:6]\n",
    "Y = data.iloc[:,7]\n",
    "\n",
    "print(X.shape)\n",
    "print(Y.shape)\n"
   ]
  },
  {
   "cell_type": "code",
   "execution_count": 3,
   "metadata": {},
   "outputs": [
    {
     "name": "stdout",
     "output_type": "stream",
     "text": [
      "[[-1.43981724e+01]\n",
      " [-1.53624840e+00]\n",
      " [-5.52296919e-03]\n",
      " [ 4.00615480e+00]]\n",
      "Time for close form solution:  0.08377623558044434\n"
     ]
    }
   ],
   "source": [
    "X_ = np.array(X.replace({'?':0})).T\n",
    "X_ = X_.astype(float)\n",
    "Y_ = np.array(Y.replace({'?':0})).reshape(Y.shape[0],1).astype(float)\n",
    "lambda_ = 0.1\n",
    "\n",
    "start = time.time()\n",
    "I = np.identity(4)\n",
    "p1 = np.matmul(X_,X_.T)\n",
    "p2 = lambda_*I\n",
    "inv = np.linalg.inv(p1+p2)\n",
    "close_form_solution = np.matmul(np.matmul(inv,X_),Y_)\n",
    "end = time.time()\n",
    "\n",
    "print(close_form_solution)\n",
    "print(\"Time for close form solution: \", end-start)"
   ]
  },
  {
   "cell_type": "code",
   "execution_count": 7,
   "metadata": {},
   "outputs": [
    {
     "name": "stdout",
     "output_type": "stream",
     "text": [
      "[[-1.44193772e+01 -1.53988812e+00 -4.38485021e-03  4.01156838e+00]]\n",
      "Time for close form solution:  0.12514472007751465\n"
     ]
    }
   ],
   "source": [
    "from sklearn import linear_model\n",
    "reg = linear_model.Ridge(alpha=0)\n",
    "start = time.time()\n",
    "reg.fit(X_.T, Y_)\n",
    "end = time.time()\n",
    "\n",
    "print(reg.coef_)\n",
    "print(\"Time for close form solution: \", end-start)"
   ]
  }
 ],
 "metadata": {
  "kernelspec": {
   "display_name": "Python 3",
   "language": "python",
   "name": "python3"
  },
  "language_info": {
   "codemirror_mode": {
    "name": "ipython",
    "version": 3
   },
   "file_extension": ".py",
   "mimetype": "text/x-python",
   "name": "python",
   "nbconvert_exporter": "python",
   "pygments_lexer": "ipython3",
   "version": "3.7.4"
  }
 },
 "nbformat": 4,
 "nbformat_minor": 1
}
