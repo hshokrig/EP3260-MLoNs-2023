{
 "cells": [
  {
   "cell_type": "code",
   "execution_count": 4,
   "metadata": {},
   "outputs": [],
   "source": [
    "# Import libraries\n",
    "import keras\n",
    "from keras.datasets import mnist\n",
    "from keras.layers import Dense\n",
    "from keras.models import Sequential\n",
    "import matplotlib.pyplot as plt\n",
    "from random import randint\n",
    "import numpy as np\n"
   ]
  },
  {
   "cell_type": "code",
   "execution_count": 5,
   "metadata": {},
   "outputs": [
    {
     "data": {
      "image/png": "[encoded data removed]",
      "text/plain": [
       "<Figure size 432x288 with 64 Axes>"
      ]
     },
     "metadata": {
      "needs_background": "light"
     },
     "output_type": "display_data"
    }
   ],
   "source": [
    "# Preparing the dataset\n",
    "# Setup train and test splits\n",
    "(x_train, y_train), (x_test, y_test) = mnist.load_data()\n",
    "\n",
    "# Making a copy before flattening for the next code-segment which displays images\n",
    "x_train_drawing = x_train\n",
    "\n",
    "image_size = 784 # 28 x 28\n",
    "x_train = x_train.reshape(x_train.shape[0], image_size) \n",
    "x_test = x_test.reshape(x_test.shape[0], image_size)\n",
    "\n",
    "# Convert class vectors to binary class matrices\n",
    "num_classes = 10\n",
    "y_train = keras.utils.to_categorical(y_train, num_classes)\n",
    "y_test = keras.utils.to_categorical(y_test, num_classes)\n",
    "\n",
    "# Show some random digits\n",
    "for i in range(64):\n",
    "    ax = plt.subplot(8, 8, i+1)\n",
    "    ax.axis('off')\n",
    "    plt.imshow(x_train_drawing[randint(0, x_train.shape[0])], cmap='Greys')"
   ]
  },
  {
   "cell_type": "code",
   "execution_count": null,
   "metadata": {},
   "outputs": [],
   "source": [
    "# Define cost functions\n",
    "\n",
    "# Condition metric\n",
    "def H(X, y, theta):\n",
    "    y = y.reshape(y.shape[0], 1) # change to 2d array\n",
    "    return (1 - y * (X@theta))\n",
    "\n",
    "# SVM loss function\n",
    "def svm_loss_re(X, y, theta, lamda):\n",
    "    h = H(X, y, theta)\n",
    "    penalty = lamda*(theta.T @ theta)\n",
    "    loss = np.mean([max(0, i) for i in h])\n",
    "    return np.asscalar(penalty) + np.asscalar(loss) \n",
    "\n",
    "# Gradient of SVM loss function\n",
    "def svm_grad_re(X, y, theta, lamda):\n",
    "    h = H(X, y, theta)\n",
    "    # Fill in\n",
    "    return grad\n"
   ]
  },
  {
   "cell_type": "code",
   "execution_count": 6,
   "metadata": {},
   "outputs": [],
   "source": [
    "#Split dataset to num_worker workers\n",
    "def split_workers(X_data, y_data, num_worker):\n",
    "    # Split into 10 subdatasets for 10 workers\n",
    "    data_X_list=[]\n",
    "    data_y_list=[]\n",
    "    num_data = len(y_data)\n",
    "    num_per_data = num_data // num_worker\n",
    "    for i_th in range(num_worker):\n",
    "        j = num_per_data * (i_th + 1)\n",
    "        i = i_th*num_per_data\n",
    "        x_data_worker = X_data[i:j]\n",
    "        y_data_worker = y_data[i:j]\n",
    "        data_X_list.append(x_data_worker)\n",
    "        data_y_list.append(y_data_worker)\n",
    "        \n",
    "    return data_X_list, data_y_list\n",
    "\n",
    "# Function to train master-worker\n",
    "def train(X_data, y, num_worker, num_iter, var, pLevel, lamda, alpha, lr_fade=1):\n",
    "    \n",
    "    # lamda: penalty\n",
    "    # alpha: learning rate\n",
    "    # var: noise variance\n",
    "    # pLevel: noise adding probability\n",
    "    # num_iter: number of iterations\n",
    "    \n",
    "    # Split into 10 subdatasets for 10 workers\n",
    "    data_X_list, data_y_list = split_workers(X_data, y, num_worker)\n",
    "    \n",
    "    # train\n",
    "    weight = np.random.rand(X_data.shape[1], 1)\n",
    "    total_loss_list=[]\n",
    "    for i_iter in range(num_iter):\n",
    "        gradient_list=[]\n",
    "        # Fill in\n",
    "        for j_worker in range(num_worker):\n",
    "            # call data_j from worker j\n",
    "            # get grad from worker j\n",
    "            # add noise\n",
    "        # Fill in\n",
    "        grad_ave = 1./num_worker*sum(gradient_list)\n",
    "        alpha *= lr_fade\n",
    "        weight -= alpha * grad_ave\n",
    "        total_loss_list.append(svm_loss_re(X_data, y, weight, lamda))\n",
    "    \n",
    "    return total_loss_list\n"
   ]
  },
  {
   "cell_type": "code",
   "execution_count": null,
   "metadata": {},
   "outputs": [],
   "source": [
    "# Tune noise and consider ? iterations\n",
    "def tuningNoise(var, pLevel):\n",
    "    return train(X_data, y, num_worker, num_iter, var, pLevel, lamda, alpha, lr_fade)"
   ]
  },
  {
   "cell_type": "code",
   "execution_count": null,
   "metadata": {},
   "outputs": [],
   "source": [
    "# pLevel = ?; num_iter = ?\n",
    "Loss_var = []\n",
    "varList = #Fill in\n",
    "for i in varList:\n",
    "    # Fill in\n",
    "    Loss_var.append(tuningNoise(var=i, pLevel=))\n",
    "\n",
    "%matplotlib inline\n",
    "from pylab import rcParams\n",
    "rcParams['figure.figsize'] = 8, 6\n",
    "\n",
    "x_axis = np.arange(0, 200)\n",
    "for i in range(len(Loss_var)):\n",
    "    plt.semilogy(x_axis, Loss_var[i], label='R=%.2f, P=' % (varList[i]))\n",
    "    \n",
    "plt.xlabel('Num_of_iter')\n",
    "plt.ylabel('Total loss')\n",
    "plt.legend(loc='upper right', prop={'size': })\n",
    "plt.savefig('Figure.png')\n",
    "plt.show()"
   ]
  }
 ],
 "metadata": {
  "kernelspec": {
   "display_name": "Python 3",
   "language": "python",
   "name": "python3"
  },
  "language_info": {
   "codemirror_mode": {
    "name": "ipython",
    "version": 3
   },
   "file_extension": ".py",
   "mimetype": "text/x-python",
   "name": "python",
   "nbconvert_exporter": "python",
   "pygments_lexer": "ipython3",
   "version": "3.7.3"
  },
  "varInspector": {
   "cols": {
    "lenName": 16,
    "lenType": 16,
    "lenVar": 40
   },
   "kernels_config": {
    "python": {
     "delete_cmd_postfix": "",
     "delete_cmd_prefix": "del ",
     "library": "var_list.py",
     "varRefreshCmd": "print(var_dic_list())"
    },
    "r": {
     "delete_cmd_postfix": ") ",
     "delete_cmd_prefix": "rm(",
     "library": "var_list.r",
     "varRefreshCmd": "cat(var_dic_list()) "
    }
   },
   "types_to_exclude": [
    "module",
    "function",
    "builtin_function_or_method",
    "instance",
    "_Feature"
   ],
   "window_display": true
  }
 },
 "nbformat": 4,
 "nbformat_minor": 2
}
