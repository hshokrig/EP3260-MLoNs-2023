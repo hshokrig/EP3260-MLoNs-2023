{
 "cells": [
  {
   "cell_type": "code",
   "execution_count": 66,
   "metadata": {},
   "outputs": [
    {
     "ename": "ValueError",
     "evalue": "could not convert string to float: '16/12/2006'",
     "output_type": "error",
     "traceback": [
      "\u001b[0;31m---------------------------------------------------------------------------\u001b[0m",
      "\u001b[0;31mValueError\u001b[0m                                Traceback (most recent call last)",
      "\u001b[0;32m/var/folders/gh/5plzzznd6y17bcq3b6hhw6sw0000gp/T/ipykernel_79435/889249343.py\u001b[0m in \u001b[0;36m<module>\u001b[0;34m\u001b[0m\n\u001b[1;32m     32\u001b[0m \u001b[0;34m\u001b[0m\u001b[0m\n\u001b[1;32m     33\u001b[0m \u001b[0;34m\u001b[0m\u001b[0m\n\u001b[0;32m---> 34\u001b[0;31m \u001b[0mX_power\u001b[0m  \u001b[0;34m=\u001b[0m \u001b[0mX_power\u001b[0m\u001b[0;34m.\u001b[0m\u001b[0mastype\u001b[0m\u001b[0;34m(\u001b[0m\u001b[0;34m'float64'\u001b[0m\u001b[0;34m)\u001b[0m\u001b[0;34m\u001b[0m\u001b[0;34m\u001b[0m\u001b[0m\n\u001b[0m\u001b[1;32m     35\u001b[0m \u001b[0mY_power\u001b[0m  \u001b[0;34m=\u001b[0m \u001b[0mY_power\u001b[0m\u001b[0;34m.\u001b[0m\u001b[0mastype\u001b[0m\u001b[0;34m(\u001b[0m\u001b[0;34m'float64'\u001b[0m\u001b[0;34m)\u001b[0m\u001b[0;34m\u001b[0m\u001b[0;34m\u001b[0m\u001b[0m\n\u001b[1;32m     36\u001b[0m \u001b[0mX_gas\u001b[0m    \u001b[0;34m=\u001b[0m \u001b[0mX_gas\u001b[0m\u001b[0;34m.\u001b[0m\u001b[0mastype\u001b[0m\u001b[0;34m(\u001b[0m\u001b[0;34m'float64'\u001b[0m\u001b[0;34m)\u001b[0m\u001b[0;34m\u001b[0m\u001b[0;34m\u001b[0m\u001b[0m\n",
      "\u001b[0;31mValueError\u001b[0m: could not convert string to float: '16/12/2006'"
     ]
    }
   ],
   "source": [
    "##imports from libraries\n",
    "import pandas as pd\n",
    "import numpy as np\n",
    "import time\n",
    "from sklearn import linear_model\n",
    "import os\n",
    "import pandas as pd\n",
    "\n",
    "\n",
    "## LOAD INDIVIDUAL HOUSE POWER CONSUMPTION DATASET\n",
    "data_power = pd.read_csv(\"household_power_consumption.txt\", sep=\";\", low_memory=False)\n",
    "data_power = data_power.to_numpy()\n",
    "X_power = data_power[:,0:8]\n",
    "Y_power = data_power[:,8]\n",
    "\n",
    "\n",
    "##### LOAD GREENHOUSE GAS OBSERVING NETWORK DATASET: \n",
    "# since the documentation of the computer assinment is not clear, we take the average of each tracer over time. \n",
    "# Since we have 15 tracers, we have 15 features and d=15. The last row of each location shows the label value.\n",
    "file_list = os.listdir(\"ghg_data\")\n",
    "file_list = file_list[:5]\n",
    "X_gas  = np.zeros((2921,15))\n",
    "Y_gas = np.zeros((2921))\n",
    "i = 0\n",
    "for file in file_list:\n",
    "    df = pd.read_csv(f\"ghg_data/{file}\",  sep=\"\\s+\", header=None, low_memory=False) \n",
    "    data_np_tmp = df.to_numpy()\n",
    "    data_np_tmp = np.average(data_np_tmp, axis =1)\n",
    "    X_gas[i,:] = data_np_tmp[:15]\n",
    "    Y_gas[i] = data_np_tmp[15]\n",
    "    i += 1\n",
    "\n",
    "\n",
    "X_power  = X_power.astype('float64')\n",
    "Y_power  = Y_power.astype('float64')\n",
    "X_gas    = X_gas.astype('float64')\n",
    "\n",
    "\n",
    "n_power = 2075259\n",
    "d_power = 8\n",
    "lamda_power   = 1/n_power\n",
    "\n",
    "n_gas = 2921\n",
    "d_gas = 15\n",
    "lamda_gas = 1/n_gas\n",
    "\n",
    "# start = time.time()\n",
    "\n",
    "# time_power = time.time() - start\n",
    "# tmp1 = np.matmul( np.transpose(X_power), Y_power )\n",
    "# tmp2 =  np.linalg.inv( (1/n_power)*( np.matmul(np.transpose(X_power), X_power) + lamda_power*np.identity(d_power)))\n",
    "# w_power = np.matmul(tmp2,tmp1)\n",
    "\n",
    "\n",
    "start = time.time()\n",
    "tmp1 = np.matmul( np.transpose(X_gas), Y_gas )\n",
    "tmp2 =  np.linalg.inv( (1/n_gas)*( np.matmul(np.transpose(X_gas), X_gas) + lamda_power*np.identity(d_gas)))\n",
    "w_gas = np.matmul(tmp2,tmp1)\n",
    "time_gas = time.time() - start\n",
    "\n",
    "\n",
    "# reg = linear_model.Ridge(alpha=0)\n",
    "# start = time.time()\n",
    "# ## Find the optimal linear regressor here:\n",
    "\n",
    "# end = time.time()"
   ]
  },
  {
   "cell_type": "code",
   "execution_count": 63,
   "metadata": {},
   "outputs": [
    {
     "ename": "TypeError",
     "evalue": "can't multiply sequence by non-int of type 'float'",
     "output_type": "error",
     "traceback": [
      "\u001b[0;31m---------------------------------------------------------------------------\u001b[0m",
      "\u001b[0;31mTypeError\u001b[0m                                 Traceback (most recent call last)",
      "\u001b[0;32m/var/folders/gh/5plzzznd6y17bcq3b6hhw6sw0000gp/T/ipykernel_79435/3035542498.py\u001b[0m in \u001b[0;36m<module>\u001b[0;34m\u001b[0m\n\u001b[0;32m----> 1\u001b[0;31m \u001b[0mtmp1\u001b[0m \u001b[0;34m=\u001b[0m \u001b[0mnp\u001b[0m\u001b[0;34m.\u001b[0m\u001b[0mmatmul\u001b[0m\u001b[0;34m(\u001b[0m \u001b[0mnp\u001b[0m\u001b[0;34m.\u001b[0m\u001b[0mtranspose\u001b[0m\u001b[0;34m(\u001b[0m\u001b[0mX_power\u001b[0m\u001b[0;34m)\u001b[0m\u001b[0;34m,\u001b[0m \u001b[0mY_power\u001b[0m \u001b[0;34m)\u001b[0m\u001b[0;34m\u001b[0m\u001b[0;34m\u001b[0m\u001b[0m\n\u001b[0m",
      "\u001b[0;31mTypeError\u001b[0m: can't multiply sequence by non-int of type 'float'"
     ]
    }
   ],
   "source": [
    "tmp1 = np.matmul( np.transpose(X_power), Y_power )"
   ]
  },
  {
   "cell_type": "code",
   "execution_count": null,
   "metadata": {},
   "outputs": [],
   "source": []
  },
  {
   "cell_type": "code",
   "execution_count": null,
   "metadata": {},
   "outputs": [],
   "source": []
  },
  {
   "cell_type": "code",
   "execution_count": null,
   "metadata": {},
   "outputs": [],
   "source": [
    "\n"
   ]
  },
  {
   "cell_type": "code",
   "execution_count": null,
   "metadata": {},
   "outputs": [],
   "source": []
  },
  {
   "cell_type": "code",
   "execution_count": null,
   "metadata": {},
   "outputs": [],
   "source": []
  },
  {
   "cell_type": "code",
   "execution_count": null,
   "metadata": {},
   "outputs": [],
   "source": []
  },
  {
   "cell_type": "code",
   "execution_count": null,
   "metadata": {},
   "outputs": [],
   "source": []
  }
 ],
 "metadata": {
  "kernelspec": {
   "display_name": "OT",
   "language": "python",
   "name": "python3"
  },
  "language_info": {
   "codemirror_mode": {
    "name": "ipython",
    "version": 3
   },
   "file_extension": ".py",
   "mimetype": "text/x-python",
   "name": "python",
   "nbconvert_exporter": "python",
   "pygments_lexer": "ipython3",
   "version": "3.7.12"
  },
  "orig_nbformat": 4,
  "vscode": {
   "interpreter": {
    "hash": "c073ddc1555eb3f3acf35f1186ac9fdb355ad6f3dc0cf8b633d37d93a641136b"
   }
  }
 },
 "nbformat": 4,
 "nbformat_minor": 2
}
